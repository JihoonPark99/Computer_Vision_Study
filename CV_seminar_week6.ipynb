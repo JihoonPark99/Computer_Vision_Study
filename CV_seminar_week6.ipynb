{
  "nbformat": 4,
  "nbformat_minor": 0,
  "metadata": {
    "colab": {
      "provenance": [],
      "include_colab_link": true
    },
    "kernelspec": {
      "name": "python3",
      "display_name": "Python 3"
    },
    "language_info": {
      "name": "python"
    },
    "accelerator": "GPU",
    "gpuClass": "standard",
    "widgets": {
      "application/vnd.jupyter.widget-state+json": {
        "ea6134f2936f41079e250cef529f8d6d": {
          "model_module": "@jupyter-widgets/controls",
          "model_name": "HBoxModel",
          "model_module_version": "1.5.0",
          "state": {
            "_dom_classes": [],
            "_model_module": "@jupyter-widgets/controls",
            "_model_module_version": "1.5.0",
            "_model_name": "HBoxModel",
            "_view_count": null,
            "_view_module": "@jupyter-widgets/controls",
            "_view_module_version": "1.5.0",
            "_view_name": "HBoxView",
            "box_style": "",
            "children": [
              "IPY_MODEL_67f7f06905dd4fe7a87cc45d7b0cb6e4",
              "IPY_MODEL_4fb1f43346754a9fbf0ff28f1221c50a",
              "IPY_MODEL_32a909c35710468692295db47c022325"
            ],
            "layout": "IPY_MODEL_c7748bae264545658f553cca538aacb3"
          }
        },
        "67f7f06905dd4fe7a87cc45d7b0cb6e4": {
          "model_module": "@jupyter-widgets/controls",
          "model_name": "HTMLModel",
          "model_module_version": "1.5.0",
          "state": {
            "_dom_classes": [],
            "_model_module": "@jupyter-widgets/controls",
            "_model_module_version": "1.5.0",
            "_model_name": "HTMLModel",
            "_view_count": null,
            "_view_module": "@jupyter-widgets/controls",
            "_view_module_version": "1.5.0",
            "_view_name": "HTMLView",
            "description": "",
            "description_tooltip": null,
            "layout": "IPY_MODEL_c0efb28a56604586b6780ed304ee496d",
            "placeholder": "​",
            "style": "IPY_MODEL_e18a99931e894753824724efec28d3a8",
            "value": "100%"
          }
        },
        "4fb1f43346754a9fbf0ff28f1221c50a": {
          "model_module": "@jupyter-widgets/controls",
          "model_name": "FloatProgressModel",
          "model_module_version": "1.5.0",
          "state": {
            "_dom_classes": [],
            "_model_module": "@jupyter-widgets/controls",
            "_model_module_version": "1.5.0",
            "_model_name": "FloatProgressModel",
            "_view_count": null,
            "_view_module": "@jupyter-widgets/controls",
            "_view_module_version": "1.5.0",
            "_view_name": "ProgressView",
            "bar_style": "success",
            "description": "",
            "description_tooltip": null,
            "layout": "IPY_MODEL_e79199e9febd440681850c9e6fdc447f",
            "max": 102530333,
            "min": 0,
            "orientation": "horizontal",
            "style": "IPY_MODEL_957aeb1839534ac29d143459b298170a",
            "value": 102530333
          }
        },
        "32a909c35710468692295db47c022325": {
          "model_module": "@jupyter-widgets/controls",
          "model_name": "HTMLModel",
          "model_module_version": "1.5.0",
          "state": {
            "_dom_classes": [],
            "_model_module": "@jupyter-widgets/controls",
            "_model_module_version": "1.5.0",
            "_model_name": "HTMLModel",
            "_view_count": null,
            "_view_module": "@jupyter-widgets/controls",
            "_view_module_version": "1.5.0",
            "_view_name": "HTMLView",
            "description": "",
            "description_tooltip": null,
            "layout": "IPY_MODEL_82613a54645343aa89ca4312b726ce94",
            "placeholder": "​",
            "style": "IPY_MODEL_e5c9be6158d0489ab2882ef95b0bf28f",
            "value": " 97.8M/97.8M [00:03&lt;00:00, 38.1MB/s]"
          }
        },
        "c7748bae264545658f553cca538aacb3": {
          "model_module": "@jupyter-widgets/base",
          "model_name": "LayoutModel",
          "model_module_version": "1.2.0",
          "state": {
            "_model_module": "@jupyter-widgets/base",
            "_model_module_version": "1.2.0",
            "_model_name": "LayoutModel",
            "_view_count": null,
            "_view_module": "@jupyter-widgets/base",
            "_view_module_version": "1.2.0",
            "_view_name": "LayoutView",
            "align_content": null,
            "align_items": null,
            "align_self": null,
            "border": null,
            "bottom": null,
            "display": null,
            "flex": null,
            "flex_flow": null,
            "grid_area": null,
            "grid_auto_columns": null,
            "grid_auto_flow": null,
            "grid_auto_rows": null,
            "grid_column": null,
            "grid_gap": null,
            "grid_row": null,
            "grid_template_areas": null,
            "grid_template_columns": null,
            "grid_template_rows": null,
            "height": null,
            "justify_content": null,
            "justify_items": null,
            "left": null,
            "margin": null,
            "max_height": null,
            "max_width": null,
            "min_height": null,
            "min_width": null,
            "object_fit": null,
            "object_position": null,
            "order": null,
            "overflow": null,
            "overflow_x": null,
            "overflow_y": null,
            "padding": null,
            "right": null,
            "top": null,
            "visibility": null,
            "width": null
          }
        },
        "c0efb28a56604586b6780ed304ee496d": {
          "model_module": "@jupyter-widgets/base",
          "model_name": "LayoutModel",
          "model_module_version": "1.2.0",
          "state": {
            "_model_module": "@jupyter-widgets/base",
            "_model_module_version": "1.2.0",
            "_model_name": "LayoutModel",
            "_view_count": null,
            "_view_module": "@jupyter-widgets/base",
            "_view_module_version": "1.2.0",
            "_view_name": "LayoutView",
            "align_content": null,
            "align_items": null,
            "align_self": null,
            "border": null,
            "bottom": null,
            "display": null,
            "flex": null,
            "flex_flow": null,
            "grid_area": null,
            "grid_auto_columns": null,
            "grid_auto_flow": null,
            "grid_auto_rows": null,
            "grid_column": null,
            "grid_gap": null,
            "grid_row": null,
            "grid_template_areas": null,
            "grid_template_columns": null,
            "grid_template_rows": null,
            "height": null,
            "justify_content": null,
            "justify_items": null,
            "left": null,
            "margin": null,
            "max_height": null,
            "max_width": null,
            "min_height": null,
            "min_width": null,
            "object_fit": null,
            "object_position": null,
            "order": null,
            "overflow": null,
            "overflow_x": null,
            "overflow_y": null,
            "padding": null,
            "right": null,
            "top": null,
            "visibility": null,
            "width": null
          }
        },
        "e18a99931e894753824724efec28d3a8": {
          "model_module": "@jupyter-widgets/controls",
          "model_name": "DescriptionStyleModel",
          "model_module_version": "1.5.0",
          "state": {
            "_model_module": "@jupyter-widgets/controls",
            "_model_module_version": "1.5.0",
            "_model_name": "DescriptionStyleModel",
            "_view_count": null,
            "_view_module": "@jupyter-widgets/base",
            "_view_module_version": "1.2.0",
            "_view_name": "StyleView",
            "description_width": ""
          }
        },
        "e79199e9febd440681850c9e6fdc447f": {
          "model_module": "@jupyter-widgets/base",
          "model_name": "LayoutModel",
          "model_module_version": "1.2.0",
          "state": {
            "_model_module": "@jupyter-widgets/base",
            "_model_module_version": "1.2.0",
            "_model_name": "LayoutModel",
            "_view_count": null,
            "_view_module": "@jupyter-widgets/base",
            "_view_module_version": "1.2.0",
            "_view_name": "LayoutView",
            "align_content": null,
            "align_items": null,
            "align_self": null,
            "border": null,
            "bottom": null,
            "display": null,
            "flex": null,
            "flex_flow": null,
            "grid_area": null,
            "grid_auto_columns": null,
            "grid_auto_flow": null,
            "grid_auto_rows": null,
            "grid_column": null,
            "grid_gap": null,
            "grid_row": null,
            "grid_template_areas": null,
            "grid_template_columns": null,
            "grid_template_rows": null,
            "height": null,
            "justify_content": null,
            "justify_items": null,
            "left": null,
            "margin": null,
            "max_height": null,
            "max_width": null,
            "min_height": null,
            "min_width": null,
            "object_fit": null,
            "object_position": null,
            "order": null,
            "overflow": null,
            "overflow_x": null,
            "overflow_y": null,
            "padding": null,
            "right": null,
            "top": null,
            "visibility": null,
            "width": null
          }
        },
        "957aeb1839534ac29d143459b298170a": {
          "model_module": "@jupyter-widgets/controls",
          "model_name": "ProgressStyleModel",
          "model_module_version": "1.5.0",
          "state": {
            "_model_module": "@jupyter-widgets/controls",
            "_model_module_version": "1.5.0",
            "_model_name": "ProgressStyleModel",
            "_view_count": null,
            "_view_module": "@jupyter-widgets/base",
            "_view_module_version": "1.2.0",
            "_view_name": "StyleView",
            "bar_color": null,
            "description_width": ""
          }
        },
        "82613a54645343aa89ca4312b726ce94": {
          "model_module": "@jupyter-widgets/base",
          "model_name": "LayoutModel",
          "model_module_version": "1.2.0",
          "state": {
            "_model_module": "@jupyter-widgets/base",
            "_model_module_version": "1.2.0",
            "_model_name": "LayoutModel",
            "_view_count": null,
            "_view_module": "@jupyter-widgets/base",
            "_view_module_version": "1.2.0",
            "_view_name": "LayoutView",
            "align_content": null,
            "align_items": null,
            "align_self": null,
            "border": null,
            "bottom": null,
            "display": null,
            "flex": null,
            "flex_flow": null,
            "grid_area": null,
            "grid_auto_columns": null,
            "grid_auto_flow": null,
            "grid_auto_rows": null,
            "grid_column": null,
            "grid_gap": null,
            "grid_row": null,
            "grid_template_areas": null,
            "grid_template_columns": null,
            "grid_template_rows": null,
            "height": null,
            "justify_content": null,
            "justify_items": null,
            "left": null,
            "margin": null,
            "max_height": null,
            "max_width": null,
            "min_height": null,
            "min_width": null,
            "object_fit": null,
            "object_position": null,
            "order": null,
            "overflow": null,
            "overflow_x": null,
            "overflow_y": null,
            "padding": null,
            "right": null,
            "top": null,
            "visibility": null,
            "width": null
          }
        },
        "e5c9be6158d0489ab2882ef95b0bf28f": {
          "model_module": "@jupyter-widgets/controls",
          "model_name": "DescriptionStyleModel",
          "model_module_version": "1.5.0",
          "state": {
            "_model_module": "@jupyter-widgets/controls",
            "_model_module_version": "1.5.0",
            "_model_name": "DescriptionStyleModel",
            "_view_count": null,
            "_view_module": "@jupyter-widgets/base",
            "_view_module_version": "1.2.0",
            "_view_name": "StyleView",
            "description_width": ""
          }
        }
      }
    }
  },
  "cells": [
    {
      "cell_type": "markdown",
      "metadata": {
        "id": "view-in-github",
        "colab_type": "text"
      },
      "source": [
        "<a href=\"https://colab.research.google.com/github/JihoonPark99/Computer_Vision_Study/blob/main/CV_seminar_week6.ipynb\" target=\"_parent\"><img src=\"https://colab.research.google.com/assets/colab-badge.svg\" alt=\"Open In Colab\"/></a>"
      ]
    },
    {
      "cell_type": "code",
      "source": [
        "from google.colab import drive\n",
        "drive.mount('/content/drive')"
      ],
      "metadata": {
        "colab": {
          "base_uri": "https://localhost:8080/"
        },
        "id": "D1lzbakAd8tT",
        "outputId": "fc2c11b3-e1e8-49e0-a19e-51d98a7dccb8"
      },
      "execution_count": null,
      "outputs": [
        {
          "output_type": "stream",
          "name": "stdout",
          "text": [
            "Mounted at /content/drive\n"
          ]
        }
      ]
    },
    {
      "cell_type": "code",
      "source": [
        "%cd /content/drive/MyDrive/CV_seminar_project"
      ],
      "metadata": {
        "colab": {
          "base_uri": "https://localhost:8080/"
        },
        "id": "uNfWsC1rd-ik",
        "outputId": "4bf04b66-e301-4ddb-c803-79bd7085b9fa"
      },
      "execution_count": null,
      "outputs": [
        {
          "output_type": "stream",
          "name": "stdout",
          "text": [
            "/content/drive/MyDrive/CV_seminar_project\n"
          ]
        }
      ]
    },
    {
      "cell_type": "code",
      "source": [
        "%pwd"
      ],
      "metadata": {
        "colab": {
          "base_uri": "https://localhost:8080/",
          "height": 35
        },
        "id": "Gh5DEQXbd-fK",
        "outputId": "02cd95c8-c5c5-4f50-db0e-a9efac16b0c5"
      },
      "execution_count": null,
      "outputs": [
        {
          "output_type": "execute_result",
          "data": {
            "text/plain": [
              "'/content/drive/MyDrive/CV_seminar_project'"
            ],
            "application/vnd.google.colaboratory.intrinsic+json": {
              "type": "string"
            }
          },
          "metadata": {},
          "execution_count": 3
        }
      ]
    },
    {
      "cell_type": "code",
      "source": [
        "import torch\n",
        "device = 'cuda' if torch.cuda.is_available() else 'cpu' # device 배정\n",
        "torch.manual_seed(42)\n",
        "if device == 'cuda':\n",
        "  torch.cuda.manual_seed_all(42)\n",
        "device"
      ],
      "metadata": {
        "colab": {
          "base_uri": "https://localhost:8080/",
          "height": 35
        },
        "id": "I1DN0-5tk_6N",
        "outputId": "b35db063-8d84-4726-fe78-8c4dc29c9a8f"
      },
      "execution_count": null,
      "outputs": [
        {
          "output_type": "execute_result",
          "data": {
            "text/plain": [
              "'cuda'"
            ],
            "application/vnd.google.colaboratory.intrinsic+json": {
              "type": "string"
            }
          },
          "metadata": {},
          "execution_count": 4
        }
      ]
    },
    {
      "cell_type": "markdown",
      "source": [
        "# 1. 데이터 셋 준비하기"
      ],
      "metadata": {
        "id": "bTg_WAf5fD40"
      }
    },
    {
      "cell_type": "code",
      "source": [
        "import torch.nn as nn\n",
        "\n",
        "# 하이퍼 파라미터\n",
        "batch_size = 8\n",
        "lr = 0.0001\n",
        "epochs = 20 # 임의로  설정 \n",
        "optimizer_name = 'adam'\n",
        "model_name = 'resnet50'\n",
        "criterion = nn.CrossEntropyLoss().to(device) # cost function"
      ],
      "metadata": {
        "id": "-SLar1_YfjfK"
      },
      "execution_count": null,
      "outputs": []
    },
    {
      "cell_type": "code",
      "source": [
        "from dataset import Custom_dataset as C\n",
        "from torch.utils.data import Dataset, DataLoader\n",
        "import cv2\n",
        "import os \n",
        "import torch\n",
        "import torchvision\n",
        "from torchvision import transforms # 이미지 데이터 augmentation\n",
        "import glob\n",
        "import albumentations as A\n",
        "from albumentations.pytorch.transforms import ToTensorV2 # albumentations 텐서화 함수\n",
        "\n",
        "root_path = '/content/drive/MyDrive/CV_seminar_project'\n",
        "\n",
        "train_transforms = A.Compose([\n",
        "    A.Resize(224,224),\n",
        "    A.Transpose(p=0.5),\n",
        "    A.HorizontalFlip(p=0.5),\n",
        "    A.VerticalFlip(p=0.5),\n",
        "    A.ShiftScaleRotate(p=0.5),\n",
        "    A.HueSaturationValue(hue_shift_limit=20, sat_shift_limit=20, val_shift_limit=20, p=0.5),\n",
        "    A.RandomBrightnessContrast(brightness_limit=(-0.1,0.1), contrast_limit=(-0.1, 0.1), p=0.5),\n",
        "    A.ChannelShuffle(),\n",
        "    A.Normalize(mean=(0.485, 0.456, 0.406), std=(0.229, 0.224, 0.225), max_pixel_value=255.0, always_apply=False, p=1.0), # 이미지넷 데이터셋 통계값으로 Normalize\n",
        "    A.CoarseDropout(p=0.5),\n",
        "    ToTensorV2()\n",
        "])\n",
        "\n",
        "test_transforms = A.Compose([\n",
        "    A.Resize(224,224),\n",
        "    A.Normalize(mean=(0.485, 0.456, 0.406), std=(0.229, 0.224, 0.225), max_pixel_value=255.0, always_apply=False, p=1.0), # 텐서타입은 안해줌\n",
        "    ToTensorV2() # Normalize를 먼저하고 tensor화를 진행해야한다.\n",
        "])\n",
        "\n",
        "### Pytorch 데이터 클래스 생성\n",
        "train_class = C(root_path=root_path, mode='train', transforms=train_transforms)\n",
        "valid_class = C(root_path=root_path, mode='valid', transforms=test_transforms)\n",
        "test_class = C(root_path=root_path, mode='test', transforms=test_transforms)\n",
        "\n",
        "### Pytorch BatchLoader 생성 (학습에 이용할 최종 dataloader)\n",
        "from torch.utils.data import DataLoader as DataLoader\n",
        "\n",
        "train_loader = DataLoader(train_class, batch_size=batch_size, shuffle = True, num_workers=0)\n",
        "valid_loader = DataLoader(valid_class, batch_size=batch_size, shuffle = False, num_workers=0)\n",
        "test_loader = DataLoader(test_class, batch_size=batch_size, shuffle = False, num_workers=0)"
      ],
      "metadata": {
        "id": "L7BjMXK_d-bP"
      },
      "execution_count": null,
      "outputs": []
    },
    {
      "cell_type": "markdown",
      "source": [
        "# 2. 모델 불러오기\n",
        "> resnet_50"
      ],
      "metadata": {
        "id": "BCFTWUHcgvWa"
      }
    },
    {
      "cell_type": "code",
      "source": [
        "from torchvision import models # 모델 라이브러리 함수\n",
        "\n",
        "resnet_50 = models.resnet50(pretrained=True).to(device) # 선행학습 여부\n",
        "\n",
        "# finetuning\n",
        "import torch.nn as nn # 파이토치 뉴럴네트워크 layer 라이브러리\n",
        "resnet_50.fc = nn.Linear(resnet_50.fc.in_features, 3).to(device)"
      ],
      "metadata": {
        "colab": {
          "base_uri": "https://localhost:8080/",
          "height": 161,
          "referenced_widgets": [
            "ea6134f2936f41079e250cef529f8d6d",
            "67f7f06905dd4fe7a87cc45d7b0cb6e4",
            "4fb1f43346754a9fbf0ff28f1221c50a",
            "32a909c35710468692295db47c022325",
            "c7748bae264545658f553cca538aacb3",
            "c0efb28a56604586b6780ed304ee496d",
            "e18a99931e894753824724efec28d3a8",
            "e79199e9febd440681850c9e6fdc447f",
            "957aeb1839534ac29d143459b298170a",
            "82613a54645343aa89ca4312b726ce94",
            "e5c9be6158d0489ab2882ef95b0bf28f"
          ]
        },
        "id": "WnIAq1ZTftSM",
        "outputId": "e898ec3b-fd57-4252-9818-592c95c2fdd6"
      },
      "execution_count": null,
      "outputs": [
        {
          "output_type": "stream",
          "name": "stderr",
          "text": [
            "/usr/local/lib/python3.9/dist-packages/torchvision/models/_utils.py:208: UserWarning: The parameter 'pretrained' is deprecated since 0.13 and may be removed in the future, please use 'weights' instead.\n",
            "  warnings.warn(\n",
            "/usr/local/lib/python3.9/dist-packages/torchvision/models/_utils.py:223: UserWarning: Arguments other than a weight enum or `None` for 'weights' are deprecated since 0.13 and may be removed in the future. The current behavior is equivalent to passing `weights=ResNet50_Weights.IMAGENET1K_V1`. You can also use `weights=ResNet50_Weights.DEFAULT` to get the most up-to-date weights.\n",
            "  warnings.warn(msg)\n",
            "Downloading: \"https://download.pytorch.org/models/resnet50-0676ba61.pth\" to /root/.cache/torch/hub/checkpoints/resnet50-0676ba61.pth\n"
          ]
        },
        {
          "output_type": "display_data",
          "data": {
            "text/plain": [
              "  0%|          | 0.00/97.8M [00:00<?, ?B/s]"
            ],
            "application/vnd.jupyter.widget-view+json": {
              "version_major": 2,
              "version_minor": 0,
              "model_id": "ea6134f2936f41079e250cef529f8d6d"
            }
          },
          "metadata": {}
        }
      ]
    },
    {
      "cell_type": "code",
      "source": [
        "from torchsummary import summary # 모델 아키텍쳐 확인하는 함수\n",
        "\n",
        "summary(resnet_50, input_size = (3, 224, 224))"
      ],
      "metadata": {
        "id": "QTR-b7HfftOI",
        "colab": {
          "base_uri": "https://localhost:8080/"
        },
        "outputId": "dfedea50-8698-477d-bf34-17b2798d5897"
      },
      "execution_count": null,
      "outputs": [
        {
          "output_type": "stream",
          "name": "stdout",
          "text": [
            "----------------------------------------------------------------\n",
            "        Layer (type)               Output Shape         Param #\n",
            "================================================================\n",
            "            Conv2d-1         [-1, 64, 112, 112]           9,408\n",
            "       BatchNorm2d-2         [-1, 64, 112, 112]             128\n",
            "              ReLU-3         [-1, 64, 112, 112]               0\n",
            "         MaxPool2d-4           [-1, 64, 56, 56]               0\n",
            "            Conv2d-5           [-1, 64, 56, 56]           4,096\n",
            "       BatchNorm2d-6           [-1, 64, 56, 56]             128\n",
            "              ReLU-7           [-1, 64, 56, 56]               0\n",
            "            Conv2d-8           [-1, 64, 56, 56]          36,864\n",
            "       BatchNorm2d-9           [-1, 64, 56, 56]             128\n",
            "             ReLU-10           [-1, 64, 56, 56]               0\n",
            "           Conv2d-11          [-1, 256, 56, 56]          16,384\n",
            "      BatchNorm2d-12          [-1, 256, 56, 56]             512\n",
            "           Conv2d-13          [-1, 256, 56, 56]          16,384\n",
            "      BatchNorm2d-14          [-1, 256, 56, 56]             512\n",
            "             ReLU-15          [-1, 256, 56, 56]               0\n",
            "       Bottleneck-16          [-1, 256, 56, 56]               0\n",
            "           Conv2d-17           [-1, 64, 56, 56]          16,384\n",
            "      BatchNorm2d-18           [-1, 64, 56, 56]             128\n",
            "             ReLU-19           [-1, 64, 56, 56]               0\n",
            "           Conv2d-20           [-1, 64, 56, 56]          36,864\n",
            "      BatchNorm2d-21           [-1, 64, 56, 56]             128\n",
            "             ReLU-22           [-1, 64, 56, 56]               0\n",
            "           Conv2d-23          [-1, 256, 56, 56]          16,384\n",
            "      BatchNorm2d-24          [-1, 256, 56, 56]             512\n",
            "             ReLU-25          [-1, 256, 56, 56]               0\n",
            "       Bottleneck-26          [-1, 256, 56, 56]               0\n",
            "           Conv2d-27           [-1, 64, 56, 56]          16,384\n",
            "      BatchNorm2d-28           [-1, 64, 56, 56]             128\n",
            "             ReLU-29           [-1, 64, 56, 56]               0\n",
            "           Conv2d-30           [-1, 64, 56, 56]          36,864\n",
            "      BatchNorm2d-31           [-1, 64, 56, 56]             128\n",
            "             ReLU-32           [-1, 64, 56, 56]               0\n",
            "           Conv2d-33          [-1, 256, 56, 56]          16,384\n",
            "      BatchNorm2d-34          [-1, 256, 56, 56]             512\n",
            "             ReLU-35          [-1, 256, 56, 56]               0\n",
            "       Bottleneck-36          [-1, 256, 56, 56]               0\n",
            "           Conv2d-37          [-1, 128, 56, 56]          32,768\n",
            "      BatchNorm2d-38          [-1, 128, 56, 56]             256\n",
            "             ReLU-39          [-1, 128, 56, 56]               0\n",
            "           Conv2d-40          [-1, 128, 28, 28]         147,456\n",
            "      BatchNorm2d-41          [-1, 128, 28, 28]             256\n",
            "             ReLU-42          [-1, 128, 28, 28]               0\n",
            "           Conv2d-43          [-1, 512, 28, 28]          65,536\n",
            "      BatchNorm2d-44          [-1, 512, 28, 28]           1,024\n",
            "           Conv2d-45          [-1, 512, 28, 28]         131,072\n",
            "      BatchNorm2d-46          [-1, 512, 28, 28]           1,024\n",
            "             ReLU-47          [-1, 512, 28, 28]               0\n",
            "       Bottleneck-48          [-1, 512, 28, 28]               0\n",
            "           Conv2d-49          [-1, 128, 28, 28]          65,536\n",
            "      BatchNorm2d-50          [-1, 128, 28, 28]             256\n",
            "             ReLU-51          [-1, 128, 28, 28]               0\n",
            "           Conv2d-52          [-1, 128, 28, 28]         147,456\n",
            "      BatchNorm2d-53          [-1, 128, 28, 28]             256\n",
            "             ReLU-54          [-1, 128, 28, 28]               0\n",
            "           Conv2d-55          [-1, 512, 28, 28]          65,536\n",
            "      BatchNorm2d-56          [-1, 512, 28, 28]           1,024\n",
            "             ReLU-57          [-1, 512, 28, 28]               0\n",
            "       Bottleneck-58          [-1, 512, 28, 28]               0\n",
            "           Conv2d-59          [-1, 128, 28, 28]          65,536\n",
            "      BatchNorm2d-60          [-1, 128, 28, 28]             256\n",
            "             ReLU-61          [-1, 128, 28, 28]               0\n",
            "           Conv2d-62          [-1, 128, 28, 28]         147,456\n",
            "      BatchNorm2d-63          [-1, 128, 28, 28]             256\n",
            "             ReLU-64          [-1, 128, 28, 28]               0\n",
            "           Conv2d-65          [-1, 512, 28, 28]          65,536\n",
            "      BatchNorm2d-66          [-1, 512, 28, 28]           1,024\n",
            "             ReLU-67          [-1, 512, 28, 28]               0\n",
            "       Bottleneck-68          [-1, 512, 28, 28]               0\n",
            "           Conv2d-69          [-1, 128, 28, 28]          65,536\n",
            "      BatchNorm2d-70          [-1, 128, 28, 28]             256\n",
            "             ReLU-71          [-1, 128, 28, 28]               0\n",
            "           Conv2d-72          [-1, 128, 28, 28]         147,456\n",
            "      BatchNorm2d-73          [-1, 128, 28, 28]             256\n",
            "             ReLU-74          [-1, 128, 28, 28]               0\n",
            "           Conv2d-75          [-1, 512, 28, 28]          65,536\n",
            "      BatchNorm2d-76          [-1, 512, 28, 28]           1,024\n",
            "             ReLU-77          [-1, 512, 28, 28]               0\n",
            "       Bottleneck-78          [-1, 512, 28, 28]               0\n",
            "           Conv2d-79          [-1, 256, 28, 28]         131,072\n",
            "      BatchNorm2d-80          [-1, 256, 28, 28]             512\n",
            "             ReLU-81          [-1, 256, 28, 28]               0\n",
            "           Conv2d-82          [-1, 256, 14, 14]         589,824\n",
            "      BatchNorm2d-83          [-1, 256, 14, 14]             512\n",
            "             ReLU-84          [-1, 256, 14, 14]               0\n",
            "           Conv2d-85         [-1, 1024, 14, 14]         262,144\n",
            "      BatchNorm2d-86         [-1, 1024, 14, 14]           2,048\n",
            "           Conv2d-87         [-1, 1024, 14, 14]         524,288\n",
            "      BatchNorm2d-88         [-1, 1024, 14, 14]           2,048\n",
            "             ReLU-89         [-1, 1024, 14, 14]               0\n",
            "       Bottleneck-90         [-1, 1024, 14, 14]               0\n",
            "           Conv2d-91          [-1, 256, 14, 14]         262,144\n",
            "      BatchNorm2d-92          [-1, 256, 14, 14]             512\n",
            "             ReLU-93          [-1, 256, 14, 14]               0\n",
            "           Conv2d-94          [-1, 256, 14, 14]         589,824\n",
            "      BatchNorm2d-95          [-1, 256, 14, 14]             512\n",
            "             ReLU-96          [-1, 256, 14, 14]               0\n",
            "           Conv2d-97         [-1, 1024, 14, 14]         262,144\n",
            "      BatchNorm2d-98         [-1, 1024, 14, 14]           2,048\n",
            "             ReLU-99         [-1, 1024, 14, 14]               0\n",
            "      Bottleneck-100         [-1, 1024, 14, 14]               0\n",
            "          Conv2d-101          [-1, 256, 14, 14]         262,144\n",
            "     BatchNorm2d-102          [-1, 256, 14, 14]             512\n",
            "            ReLU-103          [-1, 256, 14, 14]               0\n",
            "          Conv2d-104          [-1, 256, 14, 14]         589,824\n",
            "     BatchNorm2d-105          [-1, 256, 14, 14]             512\n",
            "            ReLU-106          [-1, 256, 14, 14]               0\n",
            "          Conv2d-107         [-1, 1024, 14, 14]         262,144\n",
            "     BatchNorm2d-108         [-1, 1024, 14, 14]           2,048\n",
            "            ReLU-109         [-1, 1024, 14, 14]               0\n",
            "      Bottleneck-110         [-1, 1024, 14, 14]               0\n",
            "          Conv2d-111          [-1, 256, 14, 14]         262,144\n",
            "     BatchNorm2d-112          [-1, 256, 14, 14]             512\n",
            "            ReLU-113          [-1, 256, 14, 14]               0\n",
            "          Conv2d-114          [-1, 256, 14, 14]         589,824\n",
            "     BatchNorm2d-115          [-1, 256, 14, 14]             512\n",
            "            ReLU-116          [-1, 256, 14, 14]               0\n",
            "          Conv2d-117         [-1, 1024, 14, 14]         262,144\n",
            "     BatchNorm2d-118         [-1, 1024, 14, 14]           2,048\n",
            "            ReLU-119         [-1, 1024, 14, 14]               0\n",
            "      Bottleneck-120         [-1, 1024, 14, 14]               0\n",
            "          Conv2d-121          [-1, 256, 14, 14]         262,144\n",
            "     BatchNorm2d-122          [-1, 256, 14, 14]             512\n",
            "            ReLU-123          [-1, 256, 14, 14]               0\n",
            "          Conv2d-124          [-1, 256, 14, 14]         589,824\n",
            "     BatchNorm2d-125          [-1, 256, 14, 14]             512\n",
            "            ReLU-126          [-1, 256, 14, 14]               0\n",
            "          Conv2d-127         [-1, 1024, 14, 14]         262,144\n",
            "     BatchNorm2d-128         [-1, 1024, 14, 14]           2,048\n",
            "            ReLU-129         [-1, 1024, 14, 14]               0\n",
            "      Bottleneck-130         [-1, 1024, 14, 14]               0\n",
            "          Conv2d-131          [-1, 256, 14, 14]         262,144\n",
            "     BatchNorm2d-132          [-1, 256, 14, 14]             512\n",
            "            ReLU-133          [-1, 256, 14, 14]               0\n",
            "          Conv2d-134          [-1, 256, 14, 14]         589,824\n",
            "     BatchNorm2d-135          [-1, 256, 14, 14]             512\n",
            "            ReLU-136          [-1, 256, 14, 14]               0\n",
            "          Conv2d-137         [-1, 1024, 14, 14]         262,144\n",
            "     BatchNorm2d-138         [-1, 1024, 14, 14]           2,048\n",
            "            ReLU-139         [-1, 1024, 14, 14]               0\n",
            "      Bottleneck-140         [-1, 1024, 14, 14]               0\n",
            "          Conv2d-141          [-1, 512, 14, 14]         524,288\n",
            "     BatchNorm2d-142          [-1, 512, 14, 14]           1,024\n",
            "            ReLU-143          [-1, 512, 14, 14]               0\n",
            "          Conv2d-144            [-1, 512, 7, 7]       2,359,296\n",
            "     BatchNorm2d-145            [-1, 512, 7, 7]           1,024\n",
            "            ReLU-146            [-1, 512, 7, 7]               0\n",
            "          Conv2d-147           [-1, 2048, 7, 7]       1,048,576\n",
            "     BatchNorm2d-148           [-1, 2048, 7, 7]           4,096\n",
            "          Conv2d-149           [-1, 2048, 7, 7]       2,097,152\n",
            "     BatchNorm2d-150           [-1, 2048, 7, 7]           4,096\n",
            "            ReLU-151           [-1, 2048, 7, 7]               0\n",
            "      Bottleneck-152           [-1, 2048, 7, 7]               0\n",
            "          Conv2d-153            [-1, 512, 7, 7]       1,048,576\n",
            "     BatchNorm2d-154            [-1, 512, 7, 7]           1,024\n",
            "            ReLU-155            [-1, 512, 7, 7]               0\n",
            "          Conv2d-156            [-1, 512, 7, 7]       2,359,296\n",
            "     BatchNorm2d-157            [-1, 512, 7, 7]           1,024\n",
            "            ReLU-158            [-1, 512, 7, 7]               0\n",
            "          Conv2d-159           [-1, 2048, 7, 7]       1,048,576\n",
            "     BatchNorm2d-160           [-1, 2048, 7, 7]           4,096\n",
            "            ReLU-161           [-1, 2048, 7, 7]               0\n",
            "      Bottleneck-162           [-1, 2048, 7, 7]               0\n",
            "          Conv2d-163            [-1, 512, 7, 7]       1,048,576\n",
            "     BatchNorm2d-164            [-1, 512, 7, 7]           1,024\n",
            "            ReLU-165            [-1, 512, 7, 7]               0\n",
            "          Conv2d-166            [-1, 512, 7, 7]       2,359,296\n",
            "     BatchNorm2d-167            [-1, 512, 7, 7]           1,024\n",
            "            ReLU-168            [-1, 512, 7, 7]               0\n",
            "          Conv2d-169           [-1, 2048, 7, 7]       1,048,576\n",
            "     BatchNorm2d-170           [-1, 2048, 7, 7]           4,096\n",
            "            ReLU-171           [-1, 2048, 7, 7]               0\n",
            "      Bottleneck-172           [-1, 2048, 7, 7]               0\n",
            "AdaptiveAvgPool2d-173           [-1, 2048, 1, 1]               0\n",
            "          Linear-174                    [-1, 3]           6,147\n",
            "================================================================\n",
            "Total params: 23,514,179\n",
            "Trainable params: 23,514,179\n",
            "Non-trainable params: 0\n",
            "----------------------------------------------------------------\n",
            "Input size (MB): 0.57\n",
            "Forward/backward pass size (MB): 286.55\n",
            "Params size (MB): 89.70\n",
            "Estimated Total Size (MB): 376.82\n",
            "----------------------------------------------------------------\n"
          ]
        }
      ]
    },
    {
      "cell_type": "code",
      "source": [
        "optimizer = torch.optim.Adam(resnet_50.parameters(), lr = lr, weight_decay = 1e-8)"
      ],
      "metadata": {
        "id": "MLuXH9QPnfIk"
      },
      "execution_count": null,
      "outputs": []
    },
    {
      "cell_type": "markdown",
      "source": [
        "# 3. 모델 학습시키기(92.504%, Valid)"
      ],
      "metadata": {
        "id": "d5A7Ug5RkRYq"
      }
    },
    {
      "cell_type": "markdown",
      "source": [
        "- 텐서보드 글 확인하자 (인호형 블로그 글) - 실시간으로 값 확인 가능\n",
        "- torch.no_grad() : 무엇인지 확인하기\n",
        "- 요즘엔 wandb를 많이 사용함 : 협엽할때 많이 사용함. 노드의 가중치에 대해서 시각화를 해놓음. (이런 툴도 있다.)\n",
        "\n"
      ],
      "metadata": {
        "id": "X849Trr1rPkF"
      }
    },
    {
      "cell_type": "markdown",
      "source": [
        "###  모델 저장하기 \n",
        "\n",
        "- 모델 저장하기 : 딕셔너리 형식의 pth확장자로 저장이 된다. \n",
        "- validation set의 성능이 여태까지 epoch성능에서 best모델 가중치를 저장한다. "
      ],
      "metadata": {
        "id": "-GHaCgWGsBDy"
      }
    },
    {
      "cell_type": "code",
      "source": [
        "import numpy as np"
      ],
      "metadata": {
        "id": "N6MxmPacwwNe"
      },
      "execution_count": null,
      "outputs": []
    },
    {
      "cell_type": "code",
      "source": [
        "train_acc_lst = []\n",
        "train_loss_lst = []\n",
        "\n",
        "test_acc_lst = []\n",
        "test_loss_lst = []\n",
        "epochs = 100\n",
        "\n",
        "save_dir = '/content/drive/MyDrive/CV_seminar_project'\n",
        "model_name = 'resnet50'\n",
        "\n",
        "for epoch in range(1, epochs):\n",
        "  running_loss = 0.0\n",
        "  test_running_loss = 0.0\n",
        "\n",
        "  total = 0\n",
        "  correct = 0\n",
        "  \n",
        "  train_acc = 0\n",
        "  test_acc = 0\n",
        "\n",
        "  resnet_50.train()\n",
        "  for i, (train_img, train_label) in enumerate(train_loader):\n",
        "    # gpu에 할당\n",
        "    train_img = train_img.to(device)\n",
        "    train_label = train_label.to(device)\n",
        "    optimizer.zero_grad( set_to_none = True ) # 계산했던 가중치 초기화\n",
        "\n",
        "    output = resnet_50(train_img) # 모델에 입력\n",
        "    loss = criterion(output, train_label)\n",
        "    loss.backward() # 미분\n",
        "    optimizer.step() # 학습\n",
        "\n",
        "    # loss & acc\n",
        "    running_loss += loss.item()\n",
        "    _, predictions = torch.max(output.data ,dim = 1 )\n",
        "    \n",
        "    total += train_label.size(0)\n",
        "    correct += (predictions == train_label).sum().item()\n",
        "    train_acc += 100 * (correct/total)\n",
        "\n",
        "  running_loss = round(running_loss/(i+1), 3) # 소수점 반올림\n",
        "  train_acc = round(train_acc/(i+1), 3)\n",
        "  \n",
        "  print(f'Trainset{epoch}/{epochs} Loss : {running_loss}, Accuracy : {train_acc}%')\n",
        "  train_acc_lst.append(train_acc)\n",
        "  train_loss_lst.append(running_loss)\n",
        "\n",
        "\n",
        "  total = 0\n",
        "  correct = 0\n",
        "  resnet_50.eval()\n",
        "  with torch.no_grad(): \n",
        "    for ii, (valid_img, valid_label) in enumerate(valid_loader):\n",
        "          # gpu에 할당\n",
        "      valid_img = valid_img.to(device)\n",
        "      valid_label = valid_label.to(device)\n",
        "\n",
        "      output = resnet_50(valid_img) # 모델에 입력\n",
        "      loss = criterion(output, valid_label)\n",
        "\n",
        "      # loss & acc\n",
        "      test_running_loss += loss.item()\n",
        "      _, predictions = torch.max(output.data ,dim = 1 )\n",
        "      \n",
        "      total += valid_label.size(0)\n",
        "      correct += (predictions == valid_label).sum().item()\n",
        "      test_acc += 100 * (correct/total)\n",
        "\n",
        "  test_running_loss = round(test_running_loss/(ii+1), 3) # 소수점 반올림\n",
        "  test_acc = round(test_acc/(ii+1), 3)\n",
        "  print(f'Validset{epoch}/{epochs} Loss : {test_running_loss}, Accuracy : {test_acc}% \\n')\n",
        "  test_acc_lst.append(test_acc)\n",
        "  test_loss_lst.append(test_running_loss)\n",
        "\n",
        "  if np.max(test_acc_lst) <= test_acc : #현재 에포크의 test_acc가 가장 좋은 성능이라면\n",
        "    weights = resnet_50.state_dict()    #지금 모델의 가중치를 저장한다. \n",
        "    check_point = {\n",
        "        'net' : weights,\n",
        "        'epoch' : epoch,\n",
        "\n",
        "        'test_loss' : test_running_loss,\n",
        "        'train_loss' : running_loss,\n",
        "\n",
        "        'train_acc' : train_acc,\n",
        "        'test_acc' : test_acc\n",
        "    }\n",
        "    torch.save(check_point, save_dir + f'/{model_name}.pth')\n",
        "  "
      ],
      "metadata": {
        "colab": {
          "base_uri": "https://localhost:8080/"
        },
        "id": "DaaU_BTkd6Mm",
        "outputId": "09dc3da7-e9a8-4a62-8d48-5af02f3370b7"
      },
      "execution_count": null,
      "outputs": [
        {
          "output_type": "stream",
          "name": "stdout",
          "text": [
            "Trainset1/100 Loss : 0.865, Accuracy : 53.321%\n",
            "Validset1/100 Loss : 0.727, Accuracy : 76.041% \n",
            "\n",
            "Trainset2/100 Loss : 0.717, Accuracy : 68.485%\n",
            "Validset2/100 Loss : 0.501, Accuracy : 71.737% \n",
            "\n",
            "Trainset3/100 Loss : 0.591, Accuracy : 74.1%\n",
            "Validset3/100 Loss : 0.52, Accuracy : 72.289% \n",
            "\n",
            "Trainset4/100 Loss : 0.545, Accuracy : 78.083%\n",
            "Validset4/100 Loss : 0.451, Accuracy : 87.313% \n",
            "\n",
            "Trainset5/100 Loss : 0.542, Accuracy : 79.146%\n",
            "Validset5/100 Loss : 0.474, Accuracy : 85.335% \n",
            "\n",
            "Trainset6/100 Loss : 0.494, Accuracy : 82.137%\n",
            "Validset6/100 Loss : 0.456, Accuracy : 76.766% \n",
            "\n",
            "Trainset7/100 Loss : 0.459, Accuracy : 84.264%\n",
            "Validset7/100 Loss : 0.52, Accuracy : 76.861% \n",
            "\n",
            "Trainset8/100 Loss : 0.412, Accuracy : 87.239%\n",
            "Validset8/100 Loss : 0.593, Accuracy : 75.166% \n",
            "\n",
            "Trainset9/100 Loss : 0.346, Accuracy : 86.783%\n",
            "Validset9/100 Loss : 0.454, Accuracy : 84.368% \n",
            "\n",
            "Trainset10/100 Loss : 0.451, Accuracy : 82.7%\n",
            "Validset10/100 Loss : 0.486, Accuracy : 80.306% \n",
            "\n",
            "Trainset11/100 Loss : 0.363, Accuracy : 84.526%\n",
            "Validset11/100 Loss : 0.431, Accuracy : 80.475% \n",
            "\n",
            "Trainset12/100 Loss : 0.325, Accuracy : 87.34%\n",
            "Validset12/100 Loss : 0.468, Accuracy : 74.82% \n",
            "\n",
            "Trainset13/100 Loss : 0.317, Accuracy : 90.047%\n",
            "Validset13/100 Loss : 0.347, Accuracy : 86.891% \n",
            "\n",
            "Trainset14/100 Loss : 0.29, Accuracy : 90.426%\n",
            "Validset14/100 Loss : 0.309, Accuracy : 91.736% \n",
            "\n",
            "Trainset15/100 Loss : 0.363, Accuracy : 85.027%\n",
            "Validset15/100 Loss : 0.286, Accuracy : 88.608% \n",
            "\n",
            "Trainset16/100 Loss : 0.338, Accuracy : 88.664%\n",
            "Validset16/100 Loss : 0.379, Accuracy : 83.414% \n",
            "\n",
            "Trainset17/100 Loss : 0.323, Accuracy : 87.015%\n",
            "Validset17/100 Loss : 0.431, Accuracy : 88.284% \n",
            "\n",
            "Trainset18/100 Loss : 0.327, Accuracy : 88.198%\n",
            "Validset18/100 Loss : 0.366, Accuracy : 86.257% \n",
            "\n",
            "Trainset19/100 Loss : 0.253, Accuracy : 90.977%\n",
            "Validset19/100 Loss : 0.329, Accuracy : 89.791% \n",
            "\n",
            "Trainset20/100 Loss : 0.28, Accuracy : 89.939%\n",
            "Validset20/100 Loss : 0.417, Accuracy : 86.23% \n",
            "\n",
            "Trainset21/100 Loss : 0.267, Accuracy : 88.408%\n",
            "Validset21/100 Loss : 0.314, Accuracy : 91.616% \n",
            "\n",
            "Trainset22/100 Loss : 0.248, Accuracy : 92.143%\n",
            "Validset22/100 Loss : 0.339, Accuracy : 87.292% \n",
            "\n",
            "Trainset23/100 Loss : 0.253, Accuracy : 91.573%\n",
            "Validset23/100 Loss : 0.391, Accuracy : 79.6% \n",
            "\n",
            "Trainset24/100 Loss : 0.254, Accuracy : 89.932%\n",
            "Validset24/100 Loss : 0.353, Accuracy : 89.505% \n",
            "\n",
            "Trainset25/100 Loss : 0.2, Accuracy : 92.419%\n",
            "Validset25/100 Loss : 0.366, Accuracy : 87.484% \n",
            "\n",
            "Trainset26/100 Loss : 0.284, Accuracy : 90.915%\n",
            "Validset26/100 Loss : 0.367, Accuracy : 87.58% \n",
            "\n",
            "Trainset27/100 Loss : 0.261, Accuracy : 89.31%\n",
            "Validset27/100 Loss : 0.362, Accuracy : 89.742% \n",
            "\n",
            "Trainset28/100 Loss : 0.197, Accuracy : 94.66%\n",
            "Validset28/100 Loss : 0.43, Accuracy : 89.707% \n",
            "\n",
            "Trainset29/100 Loss : 0.208, Accuracy : 92.28%\n",
            "Validset29/100 Loss : 0.322, Accuracy : 92.036% \n",
            "\n",
            "Trainset30/100 Loss : 0.234, Accuracy : 91.201%\n",
            "Validset30/100 Loss : 0.419, Accuracy : 80.495% \n",
            "\n",
            "Trainset31/100 Loss : 0.204, Accuracy : 92.825%\n",
            "Validset31/100 Loss : 0.315, Accuracy : 85.277% \n",
            "\n",
            "Trainset32/100 Loss : 0.221, Accuracy : 91.072%\n",
            "Validset32/100 Loss : 0.319, Accuracy : 88.258% \n",
            "\n",
            "Trainset33/100 Loss : 0.125, Accuracy : 97.089%\n",
            "Validset33/100 Loss : 0.328, Accuracy : 91.856% \n",
            "\n",
            "Trainset34/100 Loss : 0.193, Accuracy : 94.001%\n",
            "Validset34/100 Loss : 0.353, Accuracy : 91.022% \n",
            "\n",
            "Trainset35/100 Loss : 0.208, Accuracy : 90.936%\n",
            "Validset35/100 Loss : 0.344, Accuracy : 89.806% \n",
            "\n",
            "Trainset36/100 Loss : 0.19, Accuracy : 93.432%\n",
            "Validset36/100 Loss : 0.683, Accuracy : 75.711% \n",
            "\n",
            "Trainset37/100 Loss : 0.256, Accuracy : 90.965%\n",
            "Validset37/100 Loss : 0.562, Accuracy : 81.95% \n",
            "\n",
            "Trainset38/100 Loss : 0.23, Accuracy : 90.031%\n",
            "Validset38/100 Loss : 0.299, Accuracy : 86.707% \n",
            "\n",
            "Trainset39/100 Loss : 0.174, Accuracy : 94.258%\n",
            "Validset39/100 Loss : 0.382, Accuracy : 90.184% \n",
            "\n",
            "Trainset40/100 Loss : 0.132, Accuracy : 95.667%\n",
            "Validset40/100 Loss : 0.502, Accuracy : 89.056% \n",
            "\n",
            "Trainset41/100 Loss : 0.178, Accuracy : 93.828%\n",
            "Validset41/100 Loss : 0.573, Accuracy : 76.275% \n",
            "\n",
            "Trainset42/100 Loss : 0.205, Accuracy : 91.442%\n",
            "Validset42/100 Loss : 0.378, Accuracy : 87.622% \n",
            "\n",
            "Trainset43/100 Loss : 0.133, Accuracy : 94.777%\n",
            "Validset43/100 Loss : 0.425, Accuracy : 79.929% \n",
            "\n",
            "Trainset44/100 Loss : 0.229, Accuracy : 92.549%\n",
            "Validset44/100 Loss : 0.531, Accuracy : 88.038% \n",
            "\n",
            "Trainset45/100 Loss : 0.168, Accuracy : 93.11%\n",
            "Validset45/100 Loss : 0.444, Accuracy : 85.978% \n",
            "\n",
            "Trainset46/100 Loss : 0.119, Accuracy : 95.602%\n",
            "Validset46/100 Loss : 0.393, Accuracy : 90.741% \n",
            "\n",
            "Trainset47/100 Loss : 0.25, Accuracy : 89.564%\n",
            "Validset47/100 Loss : 0.4, Accuracy : 87.113% \n",
            "\n",
            "Trainset48/100 Loss : 0.182, Accuracy : 94.613%\n",
            "Validset48/100 Loss : 0.405, Accuracy : 87.466% \n",
            "\n",
            "Trainset49/100 Loss : 0.127, Accuracy : 95.51%\n",
            "Validset49/100 Loss : 0.404, Accuracy : 90.074% \n",
            "\n",
            "Trainset50/100 Loss : 0.169, Accuracy : 94.11%\n",
            "Validset50/100 Loss : 0.362, Accuracy : 89.561% \n",
            "\n",
            "Trainset51/100 Loss : 0.126, Accuracy : 95.547%\n",
            "Validset51/100 Loss : 0.402, Accuracy : 89.252% \n",
            "\n",
            "Trainset52/100 Loss : 0.17, Accuracy : 95.612%\n",
            "Validset52/100 Loss : 0.501, Accuracy : 88.26% \n",
            "\n",
            "Trainset53/100 Loss : 0.159, Accuracy : 92.438%\n",
            "Validset53/100 Loss : 0.396, Accuracy : 85.147% \n",
            "\n",
            "Trainset54/100 Loss : 0.155, Accuracy : 96.68%\n",
            "Validset54/100 Loss : 0.44, Accuracy : 81.367% \n",
            "\n",
            "Trainset55/100 Loss : 0.106, Accuracy : 95.625%\n",
            "Validset55/100 Loss : 0.348, Accuracy : 90.226% \n",
            "\n",
            "Trainset56/100 Loss : 0.121, Accuracy : 95.756%\n",
            "Validset56/100 Loss : 0.365, Accuracy : 87.208% \n",
            "\n",
            "Trainset57/100 Loss : 0.173, Accuracy : 95.526%\n",
            "Validset57/100 Loss : 0.286, Accuracy : 89.999% \n",
            "\n",
            "Trainset58/100 Loss : 0.11, Accuracy : 95.888%\n",
            "Validset58/100 Loss : 0.346, Accuracy : 91.296% \n",
            "\n",
            "Trainset59/100 Loss : 0.192, Accuracy : 95.415%\n",
            "Validset59/100 Loss : 0.45, Accuracy : 85.943% \n",
            "\n",
            "Trainset60/100 Loss : 0.153, Accuracy : 94.926%\n",
            "Validset60/100 Loss : 0.348, Accuracy : 85.652% \n",
            "\n",
            "Trainset61/100 Loss : 0.131, Accuracy : 96.182%\n",
            "Validset61/100 Loss : 0.344, Accuracy : 84.961% \n",
            "\n",
            "Trainset62/100 Loss : 0.095, Accuracy : 97.323%\n",
            "Validset62/100 Loss : 0.304, Accuracy : 91.311% \n",
            "\n",
            "Trainset63/100 Loss : 0.181, Accuracy : 94.361%\n",
            "Validset63/100 Loss : 0.302, Accuracy : 86.497% \n",
            "\n",
            "Trainset64/100 Loss : 0.107, Accuracy : 95.873%\n",
            "Validset64/100 Loss : 0.419, Accuracy : 86.62% \n",
            "\n",
            "Trainset65/100 Loss : 0.097, Accuracy : 97.4%\n",
            "Validset65/100 Loss : 0.393, Accuracy : 85.446% \n",
            "\n",
            "Trainset66/100 Loss : 0.11, Accuracy : 96.564%\n",
            "Validset66/100 Loss : 0.51, Accuracy : 85.865% \n",
            "\n",
            "Trainset67/100 Loss : 0.144, Accuracy : 93.79%\n",
            "Validset67/100 Loss : 0.496, Accuracy : 85.389% \n",
            "\n",
            "Trainset68/100 Loss : 0.113, Accuracy : 96.409%\n",
            "Validset68/100 Loss : 0.419, Accuracy : 90.209% \n",
            "\n",
            "Trainset69/100 Loss : 0.083, Accuracy : 97.447%\n",
            "Validset69/100 Loss : 0.447, Accuracy : 88.299% \n",
            "\n",
            "Trainset70/100 Loss : 0.125, Accuracy : 96.338%\n",
            "Validset70/100 Loss : 0.474, Accuracy : 91.841% \n",
            "\n",
            "Trainset71/100 Loss : 0.115, Accuracy : 97.048%\n",
            "Validset71/100 Loss : 0.383, Accuracy : 88.504% \n",
            "\n",
            "Trainset72/100 Loss : 0.126, Accuracy : 96.622%\n",
            "Validset72/100 Loss : 0.379, Accuracy : 89.947% \n",
            "\n",
            "Trainset73/100 Loss : 0.141, Accuracy : 94.727%\n",
            "Validset73/100 Loss : 0.537, Accuracy : 82.286% \n",
            "\n",
            "Trainset74/100 Loss : 0.095, Accuracy : 96.534%\n",
            "Validset74/100 Loss : 0.391, Accuracy : 88.307% \n",
            "\n",
            "Trainset75/100 Loss : 0.113, Accuracy : 97.143%\n",
            "Validset75/100 Loss : 0.405, Accuracy : 86.482% \n",
            "\n",
            "Trainset76/100 Loss : 0.136, Accuracy : 96.016%\n",
            "Validset76/100 Loss : 0.363, Accuracy : 90.041% \n",
            "\n",
            "Trainset77/100 Loss : 0.112, Accuracy : 96.705%\n",
            "Validset77/100 Loss : 0.34, Accuracy : 90.235% \n",
            "\n",
            "Trainset78/100 Loss : 0.15, Accuracy : 95.456%\n",
            "Validset78/100 Loss : 0.509, Accuracy : 80.909% \n",
            "\n",
            "Trainset79/100 Loss : 0.098, Accuracy : 94.929%\n",
            "Validset79/100 Loss : 0.381, Accuracy : 89.449% \n",
            "\n",
            "Trainset80/100 Loss : 0.112, Accuracy : 95.643%\n",
            "Validset80/100 Loss : 0.331, Accuracy : 88.169% \n",
            "\n",
            "Trainset81/100 Loss : 0.084, Accuracy : 97.974%\n",
            "Validset81/100 Loss : 0.387, Accuracy : 87.012% \n",
            "\n",
            "Trainset82/100 Loss : 0.126, Accuracy : 95.759%\n",
            "Validset82/100 Loss : 0.404, Accuracy : 86.835% \n",
            "\n",
            "Trainset83/100 Loss : 0.075, Accuracy : 96.568%\n",
            "Validset83/100 Loss : 0.449, Accuracy : 88.69% \n",
            "\n",
            "Trainset84/100 Loss : 0.072, Accuracy : 98.931%\n",
            "Validset84/100 Loss : 0.431, Accuracy : 87.689% \n",
            "\n",
            "Trainset85/100 Loss : 0.083, Accuracy : 96.24%\n",
            "Validset85/100 Loss : 0.458, Accuracy : 86.693% \n",
            "\n",
            "Trainset86/100 Loss : 0.136, Accuracy : 96.366%\n",
            "Validset86/100 Loss : 0.475, Accuracy : 85.629% \n",
            "\n",
            "Trainset87/100 Loss : 0.145, Accuracy : 96.077%\n",
            "Validset87/100 Loss : 0.488, Accuracy : 87.027% \n",
            "\n",
            "Trainset88/100 Loss : 0.159, Accuracy : 95.368%\n",
            "Validset88/100 Loss : 0.441, Accuracy : 84.621% \n",
            "\n",
            "Trainset89/100 Loss : 0.117, Accuracy : 95.943%\n",
            "Validset89/100 Loss : 0.274, Accuracy : 88.523% \n",
            "\n",
            "Trainset90/100 Loss : 0.06, Accuracy : 98.177%\n",
            "Validset90/100 Loss : 0.355, Accuracy : 87.378% \n",
            "\n",
            "Trainset91/100 Loss : 0.119, Accuracy : 96.25%\n",
            "Validset91/100 Loss : 0.567, Accuracy : 78.477% \n",
            "\n",
            "Trainset92/100 Loss : 0.126, Accuracy : 95.887%\n",
            "Validset92/100 Loss : 0.308, Accuracy : 88.659% \n",
            "\n",
            "Trainset93/100 Loss : 0.098, Accuracy : 96.393%\n",
            "Validset93/100 Loss : 0.337, Accuracy : 92.504% \n",
            "\n",
            "Trainset94/100 Loss : 0.102, Accuracy : 97.285%\n",
            "Validset94/100 Loss : 0.381, Accuracy : 88.919% \n",
            "\n",
            "Trainset95/100 Loss : 0.132, Accuracy : 96.527%\n",
            "Validset95/100 Loss : 0.358, Accuracy : 89.57% \n",
            "\n",
            "Trainset96/100 Loss : 0.069, Accuracy : 98.834%\n",
            "Validset96/100 Loss : 0.373, Accuracy : 86.673% \n",
            "\n",
            "Trainset97/100 Loss : 0.072, Accuracy : 98.008%\n",
            "Validset97/100 Loss : 0.32, Accuracy : 90.489% \n",
            "\n",
            "Trainset98/100 Loss : 0.114, Accuracy : 95.682%\n",
            "Validset98/100 Loss : 0.453, Accuracy : 90.105% \n",
            "\n",
            "Trainset99/100 Loss : 0.092, Accuracy : 97.543%\n",
            "Validset99/100 Loss : 0.467, Accuracy : 80.179% \n",
            "\n"
          ]
        }
      ]
    },
    {
      "cell_type": "code",
      "source": [
        "print('Best epoch, test_loss, test_acc : ',check_point['epoch'], check_point['test_loss'], check_point['test_acc'])"
      ],
      "metadata": {
        "colab": {
          "base_uri": "https://localhost:8080/"
        },
        "id": "L_CUN6kjBfLT",
        "outputId": "ee155c89-e395-4393-fac0-dbde010effeb"
      },
      "execution_count": null,
      "outputs": [
        {
          "output_type": "stream",
          "name": "stdout",
          "text": [
            "Best epoch, test_loss, test_acc :  93 0.337 92.504\n"
          ]
        }
      ]
    },
    {
      "cell_type": "markdown",
      "source": [
        "# Accuracy, Loss vissualization"
      ],
      "metadata": {
        "id": "YGeh1U_sARx_"
      }
    },
    {
      "cell_type": "code",
      "source": [
        "import matplotlib.pyplot as plt\n",
        "import matplotlib\n",
        "import seaborn as sns\n",
        "import numpy as np\n",
        "\n",
        "fig, axes = plt.subplots(nrows=1, ncols = 2, figsize = (25, 10))\n",
        "\n",
        "axes[0].plot(np.arange(len(train_acc_lst)), train_acc_lst, label = 'train_acc', linewidth=2)\n",
        "axes[0].plot(np.arange(len(test_acc_lst)), test_acc_lst, label = 'test_acc', linewidth=2)\n",
        "axes[0].plot([check_point['epoch'],check_point['epoch']], [0,100], color='red', linestyle='--')\n",
        "axes[0].set_title('Accuracy : test_acc ({})'.format(check_point['test_acc']), fontsize=15)\n",
        "axes[0].legend(loc='best')\n",
        "\n",
        "axes[1].plot(np.arange(len(train_loss_lst)), train_loss_lst, label = 'train_loss', linewidth=2)\n",
        "axes[1].plot(np.arange(len(test_loss_lst)), test_loss_lst, label = 'test_loss', linewidth=2)\n",
        "axes[1].plot([check_point['epoch'],check_point['epoch']], [0,1], color='red', linestyle='--')\n",
        "axes[1].set_title('Loss : test_loss ({})'.format(check_point['test_loss']), fontsize=15)\n",
        "axes[1].legend(loc='best')"
      ],
      "metadata": {
        "colab": {
          "base_uri": "https://localhost:8080/",
          "height": 627
        },
        "id": "D8hRbLMY0tJi",
        "outputId": "7c5088ba-ad32-464e-e778-b497e1337f0e"
      },
      "execution_count": 15,
      "outputs": [
        {
          "output_type": "execute_result",
          "data": {
            "text/plain": [
              "<matplotlib.legend.Legend at 0x7f599e512be0>"
            ]
          },
          "metadata": {},
          "execution_count": 15
        },
        {
          "output_type": "display_data",
          "data": {
            "text/plain": [
              "<Figure size 1800x720 with 2 Axes>"
            ],
            "image/png": "[encoded data removed]"
          },
          "metadata": {
            "needs_background": "light"
          }
        }
      ]
    }
  ]
}