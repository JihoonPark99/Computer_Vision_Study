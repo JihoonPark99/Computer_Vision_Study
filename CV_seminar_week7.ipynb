{
  "nbformat": 4,
  "nbformat_minor": 0,
  "metadata": {
    "colab": {
      "provenance": [],
      "authorship_tag": "ABX9TyPpOvdh6ZoMTZeQiWlOVNwL",
      "include_colab_link": true
    },
    "kernelspec": {
      "name": "python3",
      "display_name": "Python 3"
    },
    "language_info": {
      "name": "python"
    },
    "accelerator": "GPU",
    "gpuClass": "standard"
  },
  "cells": [
    {
      "cell_type": "markdown",
      "metadata": {
        "id": "view-in-github",
        "colab_type": "text"
      },
      "source": [
        "<a href=\"https://colab.research.google.com/github/JihoonPark99/Computer_Vision_Study/blob/main/CV_seminar_week7.ipynb\" target=\"_parent\"><img src=\"https://colab.research.google.com/assets/colab-badge.svg\" alt=\"Open In Colab\"/></a>"
      ]
    },
    {
      "cell_type": "code",
      "execution_count": 23,
      "metadata": {
        "colab": {
          "base_uri": "https://localhost:8080/"
        },
        "id": "Sb9Rl3fqxD6W",
        "outputId": "1b344f63-8c13-4928-b756-a50b4f2c95db"
      },
      "outputs": [
        {
          "output_type": "stream",
          "name": "stdout",
          "text": [
            "/content/drive/MyDrive/CV_seminar_project\n"
          ]
        }
      ],
      "source": [
        "%cd /content/drive/MyDrive/CV_seminar_project"
      ]
    },
    {
      "cell_type": "code",
      "source": [
        "%pwd"
      ],
      "metadata": {
        "colab": {
          "base_uri": "https://localhost:8080/",
          "height": 35
        },
        "id": "ADBOUpntytST",
        "outputId": "01012642-674a-4698-dc6f-02bf76613e09"
      },
      "execution_count": 24,
      "outputs": [
        {
          "output_type": "execute_result",
          "data": {
            "text/plain": [
              "'/content/drive/MyDrive/CV_seminar_project'"
            ],
            "application/vnd.google.colaboratory.intrinsic+json": {
              "type": "string"
            }
          },
          "metadata": {},
          "execution_count": 24
        }
      ]
    },
    {
      "cell_type": "markdown",
      "source": [
        "GPU로 바꾸기"
      ],
      "metadata": {
        "id": "cexoW5i0yRWd"
      }
    },
    {
      "cell_type": "code",
      "source": [
        "from google.colab import drive\n",
        "drive.mount('/content/drive')"
      ],
      "metadata": {
        "colab": {
          "base_uri": "https://localhost:8080/"
        },
        "id": "b7G_74yCyG1Q",
        "outputId": "c5463113-7597-4581-b918-e333e02fe00d"
      },
      "execution_count": 25,
      "outputs": [
        {
          "output_type": "stream",
          "name": "stdout",
          "text": [
            "Drive already mounted at /content/drive; to attempt to forcibly remount, call drive.mount(\"/content/drive\", force_remount=True).\n"
          ]
        }
      ]
    },
    {
      "cell_type": "markdown",
      "source": [
        "# 1. 학습한 가중치 불러오기 "
      ],
      "metadata": {
        "id": "OyKoJFZFzJ3U"
      }
    },
    {
      "cell_type": "code",
      "source": [
        "import torch\n",
        "device = 'cuda' if torch.cuda.is_available() else 'cpu' # device 배정\n",
        "torch.manual_seed(42)\n",
        "if device == 'cuda':\n",
        "  torch.cuda.manual_seed_all(42)\n",
        "device"
      ],
      "metadata": {
        "colab": {
          "base_uri": "https://localhost:8080/",
          "height": 35
        },
        "id": "G64PMtmM83Ic",
        "outputId": "56e77907-6290-44c4-f5f5-e23c70339e54"
      },
      "execution_count": 4,
      "outputs": [
        {
          "output_type": "execute_result",
          "data": {
            "text/plain": [
              "'cuda'"
            ],
            "application/vnd.google.colaboratory.intrinsic+json": {
              "type": "string"
            }
          },
          "metadata": {},
          "execution_count": 4
        }
      ]
    },
    {
      "cell_type": "code",
      "source": [
        "import torch\n",
        "# state_dict = torch.load('resnet50.pth')\n",
        "state_dict = torch.load('/content/drive/MyDrive/CV_seminar_project/resnet50.pth')"
      ],
      "metadata": {
        "id": "5H0sqh4uxHyR"
      },
      "execution_count": 5,
      "outputs": []
    },
    {
      "cell_type": "code",
      "source": [
        "state_dict.keys()"
      ],
      "metadata": {
        "colab": {
          "base_uri": "https://localhost:8080/"
        },
        "id": "xetXewGnxHv1",
        "outputId": "78248e11-cc66-47cc-89e6-5fe79251d33b"
      },
      "execution_count": 6,
      "outputs": [
        {
          "output_type": "execute_result",
          "data": {
            "text/plain": [
              "dict_keys(['net', 'epoch', 'test_loss', 'train_loss', 'train_acc', 'test_acc'])"
            ]
          },
          "metadata": {},
          "execution_count": 6
        }
      ]
    },
    {
      "cell_type": "code",
      "source": [
        "# best_epoch = state_dict['epoch']\n",
        "best_test_acc = state_dict['test_acc']\n",
        "best_epoch = state_dict['epoch']\n",
        "weights = state_dict['net']\n",
        "\n",
        "print(f'최종적으로 { best_epoch }번째 에포크에서 test셋 기준으로 {best_test_acc}를 달성하였습니다.')\n",
        "#나중엔 10에 변수를 넣자\n",
        "\n",
        "\n"
      ],
      "metadata": {
        "colab": {
          "base_uri": "https://localhost:8080/"
        },
        "id": "k2f8X6dMxHtl",
        "outputId": "407edde4-fa9c-4bad-9cae-962b09559b18"
      },
      "execution_count": 13,
      "outputs": [
        {
          "output_type": "stream",
          "name": "stdout",
          "text": [
            "최종적으로 93번째 에포크에서 test셋 기준으로 92.504를 달성하였습니다.\n"
          ]
        }
      ]
    },
    {
      "cell_type": "markdown",
      "source": [
        "# 2. 학습한 가중치를 모델에 적용하기"
      ],
      "metadata": {
        "id": "ejTGP3380RsB"
      }
    },
    {
      "cell_type": "code",
      "source": [
        "import torch\n",
        "device = 'cuda' if torch.cuda.is_available() else 'cpu' # device 배정\n",
        "torch.manual_seed(42)\n",
        "if device == 'cuda':\n",
        "  torch.cuda.manual_seed_all(42)\n",
        "device"
      ],
      "metadata": {
        "colab": {
          "base_uri": "https://localhost:8080/",
          "height": 35
        },
        "id": "NjL78VKW0jgF",
        "outputId": "1b472100-c0f4-4ef9-eea4-d4a455e16973"
      },
      "execution_count": 14,
      "outputs": [
        {
          "output_type": "execute_result",
          "data": {
            "text/plain": [
              "'cuda'"
            ],
            "application/vnd.google.colaboratory.intrinsic+json": {
              "type": "string"
            }
          },
          "metadata": {},
          "execution_count": 14
        }
      ]
    },
    {
      "cell_type": "code",
      "source": [
        "# 모델불러오기\n",
        "from torchvision import models # 모델 라이브러리 함수\n",
        "\n",
        "resnet_50 = models.resnet50(pretrained=False).to(device) # 선행학습 여부\n",
        "\n",
        "# finetuning\n",
        "import torch.nn as nn # 파이토치 뉴럴네트워크 layer 라이브러리\n",
        "resnet_50.fc = nn.Linear(resnet_50.fc.in_features, 3).to(device)\n",
        "\n",
        "## 학습한 가중치를 적용하기\n",
        "resnet_50.load_state_dict(weights) "
      ],
      "metadata": {
        "colab": {
          "base_uri": "https://localhost:8080/"
        },
        "id": "C6O_aDE_xHrI",
        "outputId": "e0c92b49-c26c-41c3-de96-0ffb07e7c4ab"
      },
      "execution_count": 17,
      "outputs": [
        {
          "output_type": "execute_result",
          "data": {
            "text/plain": [
              "<All keys matched successfully>"
            ]
          },
          "metadata": {},
          "execution_count": 17
        }
      ]
    },
    {
      "cell_type": "markdown",
      "source": [
        "# 데이터셋 불러오기"
      ],
      "metadata": {
        "id": "_y7EWXitNitp"
      }
    },
    {
      "cell_type": "code",
      "source": [
        "from dataset import Custom_dataset as C\n",
        "from torch.utils.data import Dataset, DataLoader\n",
        "import cv2\n",
        "import os \n",
        "import torch\n",
        "import torch.nn as nn\n",
        "import torchvision\n",
        "from torchvision import transforms # 이미지 데이터 augmentation\n",
        "import glob\n",
        "import albumentations as A\n",
        "from albumentations.pytorch.transforms import ToTensorV2 # albumentations 텐서화 함수\n",
        "\n",
        "import numpy as np\n",
        "import matplotlib.pyplot as plt\n",
        "import seaborn as sns\n",
        "import pandas as pd"
      ],
      "metadata": {
        "id": "CpE1E3W8OZgS"
      },
      "execution_count": 32,
      "outputs": []
    },
    {
      "cell_type": "code",
      "source": [
        "# 하이퍼 파라미터\n",
        "batch_size = 8\n",
        "lr = 0.0001\n",
        "epochs = best_epoch \n",
        "optimizer_name = 'adam'\n",
        "model_name = 'resnet50'\n",
        "criterion = nn.CrossEntropyLoss().to(device) # cost function"
      ],
      "metadata": {
        "id": "9ikga31oOepp"
      },
      "execution_count": 29,
      "outputs": []
    },
    {
      "cell_type": "code",
      "source": [
        "\n",
        "\n",
        "root_path = '/content/drive/MyDrive/CV_seminar_project'\n",
        "\n",
        "train_transforms = A.Compose([\n",
        "    A.Resize(224,224),\n",
        "    A.Transpose(p=0.5),\n",
        "    A.HorizontalFlip(p=0.5),\n",
        "    A.VerticalFlip(p=0.5),\n",
        "    A.ShiftScaleRotate(p=0.5),\n",
        "    A.HueSaturationValue(hue_shift_limit=20, sat_shift_limit=20, val_shift_limit=20, p=0.5),\n",
        "    A.RandomBrightnessContrast(brightness_limit=(-0.1,0.1), contrast_limit=(-0.1, 0.1), p=0.5),\n",
        "    A.ChannelShuffle(),\n",
        "    A.Normalize(mean=(0.485, 0.456, 0.406), std=(0.229, 0.224, 0.225), max_pixel_value=255.0, always_apply=False, p=1.0), # 이미지넷 데이터셋 통계값으로 Normalize\n",
        "    A.CoarseDropout(p=0.5),\n",
        "    ToTensorV2()\n",
        "])\n",
        "\n",
        "test_transforms = A.Compose([\n",
        "    A.Resize(224,224),\n",
        "    A.Normalize(mean=(0.485, 0.456, 0.406), std=(0.229, 0.224, 0.225), max_pixel_value=255.0, always_apply=False, p=1.0), # 텐서타입은 안해줌\n",
        "    ToTensorV2() # Normalize를 먼저하고 tensor화를 진행해야한다.\n",
        "])\n",
        "\n",
        "### Pytorch 데이터 클래스 생성\n",
        "train_class = C(root_path=root_path, mode='train', transforms=train_transforms)\n",
        "valid_class = C(root_path=root_path, mode='valid', transforms=test_transforms)\n",
        "test_class = C(root_path=root_path, mode='test', transforms=test_transforms)\n",
        "\n",
        "### Pytorch BatchLoader 생성 (학습에 이용할 최종 dataloader)\n",
        "from torch.utils.data import DataLoader as DataLoader\n",
        "\n",
        "train_loader = DataLoader(train_class, batch_size=batch_size, shuffle = True, num_workers=0)\n",
        "valid_loader = DataLoader(valid_class, batch_size=batch_size, shuffle = False, num_workers=0)\n",
        "test_loader = DataLoader(test_class, batch_size=batch_size, shuffle = False, num_workers=0)"
      ],
      "metadata": {
        "id": "X6zQlxYjNkpy"
      },
      "execution_count": 30,
      "outputs": []
    },
    {
      "cell_type": "markdown",
      "source": [
        "\n",
        "# 3. 최종 성능 확인하기(96%)\n",
        "과제\n",
        "> 모델은 100epochs 돌려서 만든 가중치를 이용한다.     \n"
      ],
      "metadata": {
        "id": "OsU8LOvf1Enr"
      }
    },
    {
      "cell_type": "code",
      "source": [
        "optimizer = torch.optim.Adam(resnet_50.parameters(), lr = lr, weight_decay = 1e-8)"
      ],
      "metadata": {
        "id": "Xh_AH2SwxHjv"
      },
      "execution_count": 31,
      "outputs": []
    },
    {
      "cell_type": "code",
      "source": [
        "train_acc_lst = []\n",
        "train_loss_lst = []\n",
        "\n",
        "test_acc_lst = []\n",
        "test_loss_lst = []\n",
        "epochs = best_epoch\n",
        "save_dir = '/content/drive/MyDrive/CV_seminar_project'\n",
        "model_name = 'resnet50'\n",
        "\n",
        "for epoch in range(1, epochs):\n",
        "  running_loss = 0.0\n",
        "  test_running_loss = 0.0\n",
        "\n",
        "  total = 0\n",
        "  correct = 0\n",
        "  \n",
        "  train_acc = 0\n",
        "  test_acc = 0\n",
        "\n",
        "  resnet_50.train()\n",
        "  for i, (train_img, train_label) in enumerate(train_loader):\n",
        "    # gpu에 할당\n",
        "    train_img = train_img.to(device)\n",
        "    train_label = train_label.to(device)\n",
        "    optimizer.zero_grad( set_to_none = True ) # 계산했던 가중치 초기화\n",
        "\n",
        "    output = resnet_50(train_img) # 모델에 입력\n",
        "    loss = criterion(output, train_label)\n",
        "    loss.backward() # 미분\n",
        "    optimizer.step() # 학습\n",
        "\n",
        "    # loss & acc\n",
        "    running_loss += loss.item()\n",
        "    _, predictions = torch.max(output.data ,dim = 1 )\n",
        "    \n",
        "    total += train_label.size(0)\n",
        "    correct += (predictions == train_label).sum().item()\n",
        "    train_acc += 100 * (correct/total)\n",
        "\n",
        "  running_loss = round(running_loss/(i+1), 3) # 소수점 반올림\n",
        "  train_acc = round(train_acc/(i+1), 3)\n",
        "  \n",
        "  print(f'Trainset{epoch}/{epochs} Loss : {running_loss}, Accuracy : {train_acc}%')\n",
        "  train_acc_lst.append(train_acc)\n",
        "  train_loss_lst.append(running_loss)\n",
        "\n",
        "\n",
        "  total = 0\n",
        "  correct = 0\n",
        "  resnet_50.eval()\n",
        "  with torch.no_grad(): \n",
        "    for ii, (test_img, test_label) in enumerate(test_loader):\n",
        "          # gpu에 할당\n",
        "      test_img = test_img.to(device)\n",
        "      test_label = test_label.to(device)\n",
        "\n",
        "      output = resnet_50(test_img) # 모델에 입력\n",
        "      loss = criterion(output, test_label)\n",
        "\n",
        "      # loss & acc\n",
        "      test_running_loss += loss.item()\n",
        "      _, predictions = torch.max(output.data ,dim = 1 )\n",
        "      \n",
        "      total += test_label.size(0)\n",
        "      correct += (predictions == test_label).sum().item()\n",
        "      test_acc += 100 * (correct/total)\n",
        "\n",
        "  test_running_loss = round(test_running_loss/(ii+1), 3) # 소수점 반올림\n",
        "  test_acc = round(test_acc/(ii+1), 3)\n",
        "  print(f'Testset{epoch}/{epochs} Loss : {test_running_loss}, Accuracy : {test_acc}% \\n')\n",
        "  test_acc_lst.append(test_acc)\n",
        "  test_loss_lst.append(test_running_loss)\n",
        "\n",
        "  if np.max(test_acc_lst) <= test_acc : #현재 에포크의 test_acc가 가장 좋은 성능이라면\n",
        "    weights = resnet_50.state_dict()    #지금 모델의 가중치를 저장한다. \n",
        "    check_point = {\n",
        "        'net' : weights,\n",
        "        'epoch' : epoch,\n",
        "\n",
        "        'test_loss' : test_running_loss,\n",
        "        'train_loss' : running_loss,\n",
        "\n",
        "        'train_acc' : train_acc,\n",
        "        'test_acc' : test_acc\n",
        "    }\n",
        "    torch.save(check_point, save_dir + f'/{model_name}test.pth')\n"
      ],
      "metadata": {
        "id": "7Q-FfyapxHhS",
        "colab": {
          "base_uri": "https://localhost:8080/"
        },
        "outputId": "c8e6b42d-9678-4c7f-d8c1-80fb4dd138e5"
      },
      "execution_count": 33,
      "outputs": [
        {
          "output_type": "stream",
          "name": "stdout",
          "text": [
            "Trainset1/93 Loss : 0.094, Accuracy : 95.408%\n",
            "Testset1/93 Loss : 0.276, Accuracy : 94.42% \n",
            "\n",
            "Trainset2/93 Loss : 0.132, Accuracy : 96.55%\n",
            "Testset2/93 Loss : 0.39, Accuracy : 92.063% \n",
            "\n",
            "Trainset3/93 Loss : 0.086, Accuracy : 97.433%\n",
            "Testset3/93 Loss : 0.429, Accuracy : 91.891% \n",
            "\n",
            "Trainset4/93 Loss : 0.091, Accuracy : 96.434%\n",
            "Testset4/93 Loss : 0.348, Accuracy : 93.04% \n",
            "\n",
            "Trainset5/93 Loss : 0.17, Accuracy : 96.314%\n",
            "Testset5/93 Loss : 0.51, Accuracy : 88.133% \n",
            "\n",
            "Trainset6/93 Loss : 0.11, Accuracy : 95.517%\n",
            "Testset6/93 Loss : 0.373, Accuracy : 88.692% \n",
            "\n",
            "Trainset7/93 Loss : 0.083, Accuracy : 97.648%\n",
            "Testset7/93 Loss : 0.339, Accuracy : 91.303% \n",
            "\n",
            "Trainset8/93 Loss : 0.155, Accuracy : 94.665%\n",
            "Testset8/93 Loss : 0.274, Accuracy : 94.111% \n",
            "\n",
            "Trainset9/93 Loss : 0.066, Accuracy : 97.89%\n",
            "Testset9/93 Loss : 0.279, Accuracy : 92.506% \n",
            "\n",
            "Trainset10/93 Loss : 0.065, Accuracy : 97.836%\n",
            "Testset10/93 Loss : 0.351, Accuracy : 91.846% \n",
            "\n",
            "Trainset11/93 Loss : 0.083, Accuracy : 96.731%\n",
            "Testset11/93 Loss : 0.253, Accuracy : 95.761% \n",
            "\n",
            "Trainset12/93 Loss : 0.049, Accuracy : 98.393%\n",
            "Testset12/93 Loss : 0.294, Accuracy : 91.878% \n",
            "\n",
            "Trainset13/93 Loss : 0.107, Accuracy : 97.161%\n",
            "Testset13/93 Loss : 0.376, Accuracy : 90.232% \n",
            "\n",
            "Trainset14/93 Loss : 0.1, Accuracy : 95.149%\n",
            "Testset14/93 Loss : 0.24, Accuracy : 94.665% \n",
            "\n",
            "Trainset15/93 Loss : 0.069, Accuracy : 97.95%\n",
            "Testset15/93 Loss : 0.358, Accuracy : 91.561% \n",
            "\n",
            "Trainset16/93 Loss : 0.062, Accuracy : 97.132%\n",
            "Testset16/93 Loss : 0.292, Accuracy : 93.66% \n",
            "\n",
            "Trainset17/93 Loss : 0.055, Accuracy : 98.185%\n",
            "Testset17/93 Loss : 0.358, Accuracy : 88.377% \n",
            "\n",
            "Trainset18/93 Loss : 0.066, Accuracy : 98.175%\n",
            "Testset18/93 Loss : 0.318, Accuracy : 92.586% \n",
            "\n",
            "Trainset19/93 Loss : 0.109, Accuracy : 95.992%\n",
            "Testset19/93 Loss : 0.263, Accuracy : 94.016% \n",
            "\n",
            "Trainset20/93 Loss : 0.072, Accuracy : 97.041%\n",
            "Testset20/93 Loss : 0.319, Accuracy : 91.613% \n",
            "\n",
            "Trainset21/93 Loss : 0.079, Accuracy : 96.833%\n",
            "Testset21/93 Loss : 0.438, Accuracy : 94.177% \n",
            "\n",
            "Trainset22/93 Loss : 0.146, Accuracy : 96.266%\n",
            "Testset22/93 Loss : 0.427, Accuracy : 92.052% \n",
            "\n",
            "Trainset23/93 Loss : 0.101, Accuracy : 94.986%\n",
            "Testset23/93 Loss : 0.422, Accuracy : 89.615% \n",
            "\n",
            "Trainset24/93 Loss : 0.061, Accuracy : 98.68%\n",
            "Testset24/93 Loss : 0.551, Accuracy : 90.917% \n",
            "\n",
            "Trainset25/93 Loss : 0.105, Accuracy : 97.092%\n",
            "Testset25/93 Loss : 0.401, Accuracy : 93.518% \n",
            "\n",
            "Trainset26/93 Loss : 0.068, Accuracy : 96.883%\n",
            "Testset26/93 Loss : 0.363, Accuracy : 91.594% \n",
            "\n",
            "Trainset27/93 Loss : 0.094, Accuracy : 98.051%\n",
            "Testset27/93 Loss : 0.363, Accuracy : 84.928% \n",
            "\n",
            "Trainset28/93 Loss : 0.08, Accuracy : 97.258%\n",
            "Testset28/93 Loss : 0.64, Accuracy : 90.569% \n",
            "\n",
            "Trainset29/93 Loss : 0.093, Accuracy : 96.191%\n",
            "Testset29/93 Loss : 0.309, Accuracy : 94.361% \n",
            "\n",
            "Trainset30/93 Loss : 0.048, Accuracy : 98.75%\n",
            "Testset30/93 Loss : 0.363, Accuracy : 93.253% \n",
            "\n",
            "Trainset31/93 Loss : 0.054, Accuracy : 98.62%\n",
            "Testset31/93 Loss : 0.444, Accuracy : 94.61% \n",
            "\n",
            "Trainset32/93 Loss : 0.125, Accuracy : 96.485%\n",
            "Testset32/93 Loss : 0.343, Accuracy : 96.189% \n",
            "\n",
            "Trainset33/93 Loss : 0.041, Accuracy : 99.735%\n",
            "Testset33/93 Loss : 0.281, Accuracy : 92.679% \n",
            "\n",
            "Trainset34/93 Loss : 0.035, Accuracy : 98.617%\n",
            "Testset34/93 Loss : 0.398, Accuracy : 94.443% \n",
            "\n",
            "Trainset35/93 Loss : 0.1, Accuracy : 96.959%\n",
            "Testset35/93 Loss : 0.262, Accuracy : 93.511% \n",
            "\n",
            "Trainset36/93 Loss : 0.076, Accuracy : 96.57%\n",
            "Testset36/93 Loss : 0.391, Accuracy : 94.189% \n",
            "\n",
            "Trainset37/93 Loss : 0.096, Accuracy : 97.686%\n",
            "Testset37/93 Loss : 0.403, Accuracy : 92.015% \n",
            "\n",
            "Trainset38/93 Loss : 0.092, Accuracy : 97.607%\n",
            "Testset38/93 Loss : 0.468, Accuracy : 88.795% \n",
            "\n",
            "Trainset39/93 Loss : 0.058, Accuracy : 97.918%\n",
            "Testset39/93 Loss : 0.251, Accuracy : 95.712% \n",
            "\n",
            "Trainset40/93 Loss : 0.074, Accuracy : 97.207%\n",
            "Testset40/93 Loss : 0.374, Accuracy : 92.533% \n",
            "\n",
            "Trainset41/93 Loss : 0.075, Accuracy : 96.728%\n",
            "Testset41/93 Loss : 0.344, Accuracy : 91.552% \n",
            "\n",
            "Trainset42/93 Loss : 0.081, Accuracy : 97.236%\n",
            "Testset42/93 Loss : 0.396, Accuracy : 93.389% \n",
            "\n",
            "Trainset43/93 Loss : 0.101, Accuracy : 97.283%\n",
            "Testset43/93 Loss : 0.329, Accuracy : 90.152% \n",
            "\n",
            "Trainset44/93 Loss : 0.036, Accuracy : 99.18%\n",
            "Testset44/93 Loss : 0.363, Accuracy : 91.594% \n",
            "\n",
            "Trainset45/93 Loss : 0.082, Accuracy : 98.204%\n",
            "Testset45/93 Loss : 0.441, Accuracy : 89.18% \n",
            "\n",
            "Trainset46/93 Loss : 0.083, Accuracy : 96.964%\n",
            "Testset46/93 Loss : 0.346, Accuracy : 90.678% \n",
            "\n",
            "Trainset47/93 Loss : 0.069, Accuracy : 97.51%\n",
            "Testset47/93 Loss : 0.341, Accuracy : 89.882% \n",
            "\n",
            "Trainset48/93 Loss : 0.055, Accuracy : 98.831%\n",
            "Testset48/93 Loss : 0.382, Accuracy : 91.317% \n",
            "\n",
            "Trainset49/93 Loss : 0.069, Accuracy : 96.793%\n",
            "Testset49/93 Loss : 0.468, Accuracy : 91.224% \n",
            "\n",
            "Trainset50/93 Loss : 0.078, Accuracy : 97.895%\n",
            "Testset50/93 Loss : 0.42, Accuracy : 90.106% \n",
            "\n",
            "Trainset51/93 Loss : 0.078, Accuracy : 98.118%\n",
            "Testset51/93 Loss : 0.629, Accuracy : 87.147% \n",
            "\n",
            "Trainset52/93 Loss : 0.074, Accuracy : 98.199%\n",
            "Testset52/93 Loss : 0.461, Accuracy : 88.583% \n",
            "\n",
            "Trainset53/93 Loss : 0.051, Accuracy : 98.185%\n",
            "Testset53/93 Loss : 0.437, Accuracy : 90.375% \n",
            "\n",
            "Trainset54/93 Loss : 0.043, Accuracy : 98.497%\n",
            "Testset54/93 Loss : 0.557, Accuracy : 92.156% \n",
            "\n",
            "Trainset55/93 Loss : 0.031, Accuracy : 99.412%\n",
            "Testset55/93 Loss : 0.474, Accuracy : 92.938% \n",
            "\n",
            "Trainset56/93 Loss : 0.084, Accuracy : 97.22%\n",
            "Testset56/93 Loss : 0.434, Accuracy : 85.022% \n",
            "\n",
            "Trainset57/93 Loss : 0.036, Accuracy : 99.139%\n",
            "Testset57/93 Loss : 0.537, Accuracy : 89.39% \n",
            "\n",
            "Trainset58/93 Loss : 0.053, Accuracy : 98.76%\n",
            "Testset58/93 Loss : 0.558, Accuracy : 91.705% \n",
            "\n",
            "Trainset59/93 Loss : 0.046, Accuracy : 97.962%\n",
            "Testset59/93 Loss : 0.363, Accuracy : 92.915% \n",
            "\n",
            "Trainset60/93 Loss : 0.037, Accuracy : 98.34%\n",
            "Testset60/93 Loss : 0.557, Accuracy : 89.677% \n",
            "\n",
            "Trainset61/93 Loss : 0.097, Accuracy : 96.445%\n",
            "Testset61/93 Loss : 0.655, Accuracy : 90.474% \n",
            "\n",
            "Trainset62/93 Loss : 0.111, Accuracy : 95.695%\n",
            "Testset62/93 Loss : 0.508, Accuracy : 88.939% \n",
            "\n",
            "Trainset63/93 Loss : 0.06, Accuracy : 98.475%\n",
            "Testset63/93 Loss : 0.412, Accuracy : 87.947% \n",
            "\n",
            "Trainset64/93 Loss : 0.055, Accuracy : 97.695%\n",
            "Testset64/93 Loss : 0.411, Accuracy : 88.684% \n",
            "\n",
            "Trainset65/93 Loss : 0.079, Accuracy : 98.128%\n",
            "Testset65/93 Loss : 0.588, Accuracy : 84.932% \n",
            "\n",
            "Trainset66/93 Loss : 0.063, Accuracy : 97.889%\n",
            "Testset66/93 Loss : 0.479, Accuracy : 86.566% \n",
            "\n",
            "Trainset67/93 Loss : 0.085, Accuracy : 97.173%\n",
            "Testset67/93 Loss : 0.462, Accuracy : 85.357% \n",
            "\n",
            "Trainset68/93 Loss : 0.1, Accuracy : 96.872%\n",
            "Testset68/93 Loss : 0.467, Accuracy : 92.167% \n",
            "\n",
            "Trainset69/93 Loss : 0.05, Accuracy : 98.976%\n",
            "Testset69/93 Loss : 0.663, Accuracy : 93.103% \n",
            "\n",
            "Trainset70/93 Loss : 0.052, Accuracy : 98.157%\n",
            "Testset70/93 Loss : 0.655, Accuracy : 89.881% \n",
            "\n",
            "Trainset71/93 Loss : 0.029, Accuracy : 99.326%\n",
            "Testset71/93 Loss : 0.459, Accuracy : 93.361% \n",
            "\n",
            "Trainset72/93 Loss : 0.049, Accuracy : 99.478%\n",
            "Testset72/93 Loss : 0.702, Accuracy : 86.419% \n",
            "\n",
            "Trainset73/93 Loss : 0.058, Accuracy : 98.561%\n",
            "Testset73/93 Loss : 0.54, Accuracy : 91.427% \n",
            "\n",
            "Trainset74/93 Loss : 0.059, Accuracy : 99.101%\n",
            "Testset74/93 Loss : 0.822, Accuracy : 90.782% \n",
            "\n",
            "Trainset75/93 Loss : 0.059, Accuracy : 98.625%\n",
            "Testset75/93 Loss : 0.453, Accuracy : 92.08% \n",
            "\n",
            "Trainset76/93 Loss : 0.106, Accuracy : 98.505%\n",
            "Testset76/93 Loss : 0.538, Accuracy : 88.955% \n",
            "\n",
            "Trainset77/93 Loss : 0.12, Accuracy : 95.685%\n",
            "Testset77/93 Loss : 0.297, Accuracy : 93.743% \n",
            "\n",
            "Trainset78/93 Loss : 0.049, Accuracy : 98.198%\n",
            "Testset78/93 Loss : 0.415, Accuracy : 89.639% \n",
            "\n",
            "Trainset79/93 Loss : 0.046, Accuracy : 98.551%\n",
            "Testset79/93 Loss : 0.469, Accuracy : 87.877% \n",
            "\n",
            "Trainset80/93 Loss : 0.06, Accuracy : 97.435%\n",
            "Testset80/93 Loss : 0.421, Accuracy : 93.384% \n",
            "\n",
            "Trainset81/93 Loss : 0.041, Accuracy : 98.836%\n",
            "Testset81/93 Loss : 0.574, Accuracy : 85.743% \n",
            "\n",
            "Trainset82/93 Loss : 0.063, Accuracy : 97.231%\n",
            "Testset82/93 Loss : 0.568, Accuracy : 88.794% \n",
            "\n",
            "Trainset83/93 Loss : 0.058, Accuracy : 98.027%\n",
            "Testset83/93 Loss : 0.602, Accuracy : 90.52% \n",
            "\n",
            "Trainset84/93 Loss : 0.038, Accuracy : 98.658%\n",
            "Testset84/93 Loss : 0.404, Accuracy : 89.631% \n",
            "\n",
            "Trainset85/93 Loss : 0.046, Accuracy : 98.752%\n",
            "Testset85/93 Loss : 0.384, Accuracy : 84.899% \n",
            "\n",
            "Trainset86/93 Loss : 0.082, Accuracy : 96.471%\n",
            "Testset86/93 Loss : 0.323, Accuracy : 91.97% \n",
            "\n",
            "Trainset87/93 Loss : 0.032, Accuracy : 99.079%\n",
            "Testset87/93 Loss : 0.367, Accuracy : 86.92% \n",
            "\n",
            "Trainset88/93 Loss : 0.03, Accuracy : 99.284%\n",
            "Testset88/93 Loss : 0.479, Accuracy : 80.432% \n",
            "\n",
            "Trainset89/93 Loss : 0.037, Accuracy : 99.135%\n",
            "Testset89/93 Loss : 0.388, Accuracy : 87.902% \n",
            "\n",
            "Trainset90/93 Loss : 0.062, Accuracy : 98.038%\n",
            "Testset90/93 Loss : 0.456, Accuracy : 91.223% \n",
            "\n",
            "Trainset91/93 Loss : 0.072, Accuracy : 96.64%\n",
            "Testset91/93 Loss : 0.265, Accuracy : 94.378% \n",
            "\n",
            "Trainset92/93 Loss : 0.042, Accuracy : 98.246%\n",
            "Testset92/93 Loss : 0.479, Accuracy : 92.903% \n",
            "\n"
          ]
        }
      ]
    },
    {
      "cell_type": "code",
      "source": [
        "print('Best epoch, test_loss, test_acc : ',check_point['epoch'] , check_point['test_loss'] , check_point['test_acc'])"
      ],
      "metadata": {
        "id": "svnYPteTxHee",
        "colab": {
          "base_uri": "https://localhost:8080/"
        },
        "outputId": "6085b829-018c-4648-d7e7-df23d966db97"
      },
      "execution_count": 36,
      "outputs": [
        {
          "output_type": "stream",
          "name": "stdout",
          "text": [
            "Best epoch, test_loss, test_acc :  32 0.343 96.189\n"
          ]
        }
      ]
    },
    {
      "cell_type": "code",
      "source": [
        "import matplotlib.pyplot as plt\n",
        "import matplotlib\n",
        "import seaborn as sns\n",
        "import numpy as np\n",
        "\n",
        "fig, axes = plt.subplots(nrows=1, ncols = 2, figsize = (25, 10))\n",
        "\n",
        "axes[0].plot(np.arange(len(train_acc_lst)), train_acc_lst, label = 'train_acc', linewidth=2)\n",
        "axes[0].plot(np.arange(len(test_acc_lst)), test_acc_lst, label = 'test_acc', linewidth=2)\n",
        "axes[0].plot([check_point['epoch'],check_point['epoch']], [0,100], color='red', linestyle='--')\n",
        "axes[0].set_title('Accuracy : test_acc ({})'.format(check_point['test_acc']), fontsize=15)\n",
        "axes[0].legend(loc='best')\n",
        "\n",
        "axes[1].plot(np.arange(len(train_loss_lst)), train_loss_lst, label = 'train_loss', linewidth=2)\n",
        "axes[1].plot(np.arange(len(test_loss_lst)), test_loss_lst, label = 'test_loss', linewidth=2)\n",
        "axes[1].plot([check_point['epoch'],check_point['epoch']], [0,1], color='red', linestyle='--')\n",
        "axes[1].set_title('Loss : test_loss ({})'.format(check_point['test_loss']), fontsize=15)\n",
        "axes[1].legend(loc='best')"
      ],
      "metadata": {
        "id": "7RriVlpNxHb4",
        "colab": {
          "base_uri": "https://localhost:8080/",
          "height": 627
        },
        "outputId": "edd4d380-6b18-4ca9-87be-ddfe41c77d58"
      },
      "execution_count": 35,
      "outputs": [
        {
          "output_type": "execute_result",
          "data": {
            "text/plain": [
              "<matplotlib.legend.Legend at 0x7f383be7fe50>"
            ]
          },
          "metadata": {},
          "execution_count": 35
        },
        {
          "output_type": "display_data",
          "data": {
            "text/plain": [
              "<Figure size 1800x720 with 2 Axes>"
            ],
            "image/png": "[encoded data removed]"
          },
          "metadata": {
            "needs_background": "light"
          }
        }
      ]
    },
    {
      "cell_type": "code",
      "source": [],
      "metadata": {
        "id": "1DNtybrHxHZq"
      },
      "execution_count": null,
      "outputs": []
    },
    {
      "cell_type": "code",
      "source": [],
      "metadata": {
        "id": "pZtj5_aoxHW3"
      },
      "execution_count": null,
      "outputs": []
    }
  ]
}